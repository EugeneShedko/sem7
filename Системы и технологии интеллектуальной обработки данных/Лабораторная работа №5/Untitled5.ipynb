{
 "cells": [
  {
   "cell_type": "code",
   "execution_count": 1,
   "id": "de8287c2-fe10-4c44-b1da-919fa87f8fdf",
   "metadata": {},
   "outputs": [],
   "source": [
    "import numpy as np\n",
    "import pandas as pd\n",
    "import matplotlib.pyplot as plt\n",
    "import seaborn as sns\n",
    "import datetime as dt\n",
    "\n",
    "# import required libraries for clustering\n",
    "import sklearn\n",
    "from sklearn.preprocessing import StandardScaler\n",
    "from sklearn.cluster import KMeans\n",
    "from sklearn.metrics import silhouette_score\n",
    "from scipy.cluster.hierarchy import linkage\n",
    "from scipy.cluster.hierarchy import dendrogram\n",
    "from scipy.cluster.hierarchy import cut_tree"
   ]
  },
  {
   "cell_type": "code",
   "execution_count": 3,
   "id": "69a45000-ab05-4031-ae65-070601efeb58",
   "metadata": {},
   "outputs": [
    {
     "data": {
      "text/html": [
       "<div>\n",
       "<style scoped>\n",
       "    .dataframe tbody tr th:only-of-type {\n",
       "        vertical-align: middle;\n",
       "    }\n",
       "\n",
       "    .dataframe tbody tr th {\n",
       "        vertical-align: top;\n",
       "    }\n",
       "\n",
       "    .dataframe thead th {\n",
       "        text-align: right;\n",
       "    }\n",
       "</style>\n",
       "<table border=\"1\" class=\"dataframe\">\n",
       "  <thead>\n",
       "    <tr style=\"text-align: right;\">\n",
       "      <th></th>\n",
       "      <th>country</th>\n",
       "      <th>child_mort</th>\n",
       "      <th>exports</th>\n",
       "      <th>health</th>\n",
       "      <th>imports</th>\n",
       "      <th>income</th>\n",
       "      <th>inflation</th>\n",
       "      <th>life_expec</th>\n",
       "      <th>total_fer</th>\n",
       "      <th>gdpp</th>\n",
       "    </tr>\n",
       "  </thead>\n",
       "  <tbody>\n",
       "    <tr>\n",
       "      <th>0</th>\n",
       "      <td>Afghanistan</td>\n",
       "      <td>90.2</td>\n",
       "      <td>10.0</td>\n",
       "      <td>7.58</td>\n",
       "      <td>44.9</td>\n",
       "      <td>1610</td>\n",
       "      <td>9.44</td>\n",
       "      <td>56.2</td>\n",
       "      <td>5.82</td>\n",
       "      <td>553</td>\n",
       "    </tr>\n",
       "    <tr>\n",
       "      <th>1</th>\n",
       "      <td>Albania</td>\n",
       "      <td>16.6</td>\n",
       "      <td>28.0</td>\n",
       "      <td>6.55</td>\n",
       "      <td>48.6</td>\n",
       "      <td>9930</td>\n",
       "      <td>4.49</td>\n",
       "      <td>76.3</td>\n",
       "      <td>1.65</td>\n",
       "      <td>4090</td>\n",
       "    </tr>\n",
       "    <tr>\n",
       "      <th>2</th>\n",
       "      <td>Algeria</td>\n",
       "      <td>27.3</td>\n",
       "      <td>38.4</td>\n",
       "      <td>4.17</td>\n",
       "      <td>31.4</td>\n",
       "      <td>12900</td>\n",
       "      <td>16.10</td>\n",
       "      <td>76.5</td>\n",
       "      <td>2.89</td>\n",
       "      <td>4460</td>\n",
       "    </tr>\n",
       "    <tr>\n",
       "      <th>3</th>\n",
       "      <td>Angola</td>\n",
       "      <td>119.0</td>\n",
       "      <td>62.3</td>\n",
       "      <td>2.85</td>\n",
       "      <td>42.9</td>\n",
       "      <td>5900</td>\n",
       "      <td>22.40</td>\n",
       "      <td>60.1</td>\n",
       "      <td>6.16</td>\n",
       "      <td>3530</td>\n",
       "    </tr>\n",
       "    <tr>\n",
       "      <th>4</th>\n",
       "      <td>Antigua and Barbuda</td>\n",
       "      <td>10.3</td>\n",
       "      <td>45.5</td>\n",
       "      <td>6.03</td>\n",
       "      <td>58.9</td>\n",
       "      <td>19100</td>\n",
       "      <td>1.44</td>\n",
       "      <td>76.8</td>\n",
       "      <td>2.13</td>\n",
       "      <td>12200</td>\n",
       "    </tr>\n",
       "  </tbody>\n",
       "</table>\n",
       "</div>"
      ],
      "text/plain": [
       "               country  child_mort  exports  health  imports  income  \\\n",
       "0          Afghanistan        90.2     10.0    7.58     44.9    1610   \n",
       "1              Albania        16.6     28.0    6.55     48.6    9930   \n",
       "2              Algeria        27.3     38.4    4.17     31.4   12900   \n",
       "3               Angola       119.0     62.3    2.85     42.9    5900   \n",
       "4  Antigua and Barbuda        10.3     45.5    6.03     58.9   19100   \n",
       "\n",
       "   inflation  life_expec  total_fer   gdpp  \n",
       "0       9.44        56.2       5.82    553  \n",
       "1       4.49        76.3       1.65   4090  \n",
       "2      16.10        76.5       2.89   4460  \n",
       "3      22.40        60.1       6.16   3530  \n",
       "4       1.44        76.8       2.13  12200  "
      ]
     },
     "execution_count": 3,
     "metadata": {},
     "output_type": "execute_result"
    }
   ],
   "source": [
    "data = pd.read_csv('data/Country-data.csv', sep=\",\", encoding=\"ISO-8859-1\", header=0)\n",
    "data.head()"
   ]
  },
  {
   "cell_type": "code",
   "execution_count": 4,
   "id": "57c61c28-d980-4389-89a2-2fa05f97f540",
   "metadata": {},
   "outputs": [
    {
     "name": "stdout",
     "output_type": "stream",
     "text": [
      "<class 'pandas.core.frame.DataFrame'>\n",
      "RangeIndex: 167 entries, 0 to 166\n",
      "Data columns (total 10 columns):\n",
      " #   Column      Non-Null Count  Dtype  \n",
      "---  ------      --------------  -----  \n",
      " 0   country     167 non-null    object \n",
      " 1   child_mort  167 non-null    float64\n",
      " 2   exports     167 non-null    float64\n",
      " 3   health      167 non-null    float64\n",
      " 4   imports     167 non-null    float64\n",
      " 5   income      167 non-null    int64  \n",
      " 6   inflation   167 non-null    float64\n",
      " 7   life_expec  167 non-null    float64\n",
      " 8   total_fer   167 non-null    float64\n",
      " 9   gdpp        167 non-null    int64  \n",
      "dtypes: float64(7), int64(2), object(1)\n",
      "memory usage: 13.2+ KB\n"
     ]
    }
   ],
   "source": [
    "data.info()"
   ]
  },
  {
   "cell_type": "code",
   "execution_count": 5,
   "id": "846f92af-912a-4d22-941f-1a8156dd4b0c",
   "metadata": {},
   "outputs": [
    {
     "data": {
      "text/plain": [
       "country       0.0\n",
       "child_mort    0.0\n",
       "exports       0.0\n",
       "health        0.0\n",
       "imports       0.0\n",
       "income        0.0\n",
       "inflation     0.0\n",
       "life_expec    0.0\n",
       "total_fer     0.0\n",
       "gdpp          0.0\n",
       "dtype: float64"
      ]
     },
     "execution_count": 5,
     "metadata": {},
     "output_type": "execute_result"
    }
   ],
   "source": [
    "data_null = round(100*(data.isnull().sum())/len(data), 2)\n",
    "data_null"
   ]
  },
  {
   "cell_type": "code",
   "execution_count": 6,
   "id": "333f6882-0890-4351-b461-91130026a259",
   "metadata": {},
   "outputs": [
    {
     "data": {
      "text/plain": [
       "(167, 10)"
      ]
     },
     "execution_count": 6,
     "metadata": {},
     "output_type": "execute_result"
    }
   ],
   "source": [
    "data.shape\n",
    "#определяем форму массива"
   ]
  },
  {
   "cell_type": "code",
   "execution_count": 7,
   "id": "69bad1d5-873b-4850-8e0d-778cbd0af530",
   "metadata": {},
   "outputs": [
    {
     "data": {
      "image/png": "[encoded data removed]",
      "text/plain": [
       "<Figure size 640x480 with 1 Axes>"
      ]
     },
     "metadata": {},
     "output_type": "display_data"
    }
   ],
   "source": [
    "X= data.iloc[:, [3,6]].values\n",
    "\n",
    "\n",
    "wcss=[]\n",
    "#используем метод к средних\n",
    "for i in range(1,11):\n",
    "    kmeans = KMeans(n_clusters= i, init='k-means++', random_state=0)\n",
    "    kmeans.fit(X)\n",
    "    wcss.append(kmeans.inertia_)\n",
    "    \n",
    "#Можем найти оптимальное значение для K, используя график точек локтя.\n",
    "#Инициализируем алгоритм K-средних для диапазона значений K и наносим его на\n",
    "#график относительно WCSS для каждого значения K.\n",
    "\n",
    "#Визуализация метода ELBOW для получения оптимального значения K\n",
    "plt.plot(range(1,11), wcss)\n",
    "plt.title('The Elbow Method')\n",
    "plt.xlabel('no of clusters')\n",
    "plt.ylabel('wcss')\n",
    "plt.show()"
   ]
  },
  {
   "cell_type": "code",
   "execution_count": 8,
   "id": "e60367b1-c031-4756-9384-e72c2ebeb31f",
   "metadata": {},
   "outputs": [
    {
     "data": {
      "text/html": [
       "<style>#sk-container-id-1 {color: black;background-color: white;}#sk-container-id-1 pre{padding: 0;}#sk-container-id-1 div.sk-toggleable {background-color: white;}#sk-container-id-1 label.sk-toggleable__label {cursor: pointer;display: block;width: 100%;margin-bottom: 0;padding: 0.3em;box-sizing: border-box;text-align: center;}#sk-container-id-1 label.sk-toggleable__label-arrow:before {content: \"▸\";float: left;margin-right: 0.25em;color: #696969;}#sk-container-id-1 label.sk-toggleable__label-arrow:hover:before {color: black;}#sk-container-id-1 div.sk-estimator:hover label.sk-toggleable__label-arrow:before {color: black;}#sk-container-id-1 div.sk-toggleable__content {max-height: 0;max-width: 0;overflow: hidden;text-align: left;background-color: #f0f8ff;}#sk-container-id-1 div.sk-toggleable__content pre {margin: 0.2em;color: black;border-radius: 0.25em;background-color: #f0f8ff;}#sk-container-id-1 input.sk-toggleable__control:checked~div.sk-toggleable__content {max-height: 200px;max-width: 100%;overflow: auto;}#sk-container-id-1 input.sk-toggleable__control:checked~label.sk-toggleable__label-arrow:before {content: \"▾\";}#sk-container-id-1 div.sk-estimator input.sk-toggleable__control:checked~label.sk-toggleable__label {background-color: #d4ebff;}#sk-container-id-1 div.sk-label input.sk-toggleable__control:checked~label.sk-toggleable__label {background-color: #d4ebff;}#sk-container-id-1 input.sk-hidden--visually {border: 0;clip: rect(1px 1px 1px 1px);clip: rect(1px, 1px, 1px, 1px);height: 1px;margin: -1px;overflow: hidden;padding: 0;position: absolute;width: 1px;}#sk-container-id-1 div.sk-estimator {font-family: monospace;background-color: #f0f8ff;border: 1px dotted black;border-radius: 0.25em;box-sizing: border-box;margin-bottom: 0.5em;}#sk-container-id-1 div.sk-estimator:hover {background-color: #d4ebff;}#sk-container-id-1 div.sk-parallel-item::after {content: \"\";width: 100%;border-bottom: 1px solid gray;flex-grow: 1;}#sk-container-id-1 div.sk-label:hover label.sk-toggleable__label {background-color: #d4ebff;}#sk-container-id-1 div.sk-serial::before {content: \"\";position: absolute;border-left: 1px solid gray;box-sizing: border-box;top: 0;bottom: 0;left: 50%;z-index: 0;}#sk-container-id-1 div.sk-serial {display: flex;flex-direction: column;align-items: center;background-color: white;padding-right: 0.2em;padding-left: 0.2em;position: relative;}#sk-container-id-1 div.sk-item {position: relative;z-index: 1;}#sk-container-id-1 div.sk-parallel {display: flex;align-items: stretch;justify-content: center;background-color: white;position: relative;}#sk-container-id-1 div.sk-item::before, #sk-container-id-1 div.sk-parallel-item::before {content: \"\";position: absolute;border-left: 1px solid gray;box-sizing: border-box;top: 0;bottom: 0;left: 50%;z-index: -1;}#sk-container-id-1 div.sk-parallel-item {display: flex;flex-direction: column;z-index: 1;position: relative;background-color: white;}#sk-container-id-1 div.sk-parallel-item:first-child::after {align-self: flex-end;width: 50%;}#sk-container-id-1 div.sk-parallel-item:last-child::after {align-self: flex-start;width: 50%;}#sk-container-id-1 div.sk-parallel-item:only-child::after {width: 0;}#sk-container-id-1 div.sk-dashed-wrapped {border: 1px dashed gray;margin: 0 0.4em 0.5em 0.4em;box-sizing: border-box;padding-bottom: 0.4em;background-color: white;}#sk-container-id-1 div.sk-label label {font-family: monospace;font-weight: bold;display: inline-block;line-height: 1.2em;}#sk-container-id-1 div.sk-label-container {text-align: center;}#sk-container-id-1 div.sk-container {/* jupyter's `normalize.less` sets `[hidden] { display: none; }` but bootstrap.min.css set `[hidden] { display: none !important; }` so we also need the `!important` here to be able to override the default hidden behavior on the sphinx rendered scikit-learn.org. See: https://github.com/scikit-learn/scikit-learn/issues/21755 */display: inline-block !important;position: relative;}#sk-container-id-1 div.sk-text-repr-fallback {display: none;}</style><div id=\"sk-container-id-1\" class=\"sk-top-container\"><div class=\"sk-text-repr-fallback\"><pre>KMeans(n_clusters=5)</pre><b>In a Jupyter environment, please rerun this cell to show the HTML representation or trust the notebook. <br />On GitHub, the HTML representation is unable to render, please try loading this page with nbviewer.org.</b></div><div class=\"sk-container\" hidden><div class=\"sk-item\"><div class=\"sk-estimator sk-toggleable\"><input class=\"sk-toggleable__control sk-hidden--visually\" id=\"sk-estimator-id-1\" type=\"checkbox\" checked><label for=\"sk-estimator-id-1\" class=\"sk-toggleable__label sk-toggleable__label-arrow\">KMeans</label><div class=\"sk-toggleable__content\"><pre>KMeans(n_clusters=5)</pre></div></div></div></div></div>"
      ],
      "text/plain": [
       "KMeans(n_clusters=5)"
      ]
     },
     "execution_count": 8,
     "metadata": {},
     "output_type": "execute_result"
    }
   ],
   "source": [
    "#K-Means ++ - это алгоритм, который используется для инициализации начальных\n",
    "#центроидов для алгоритма K-средних. Он выбирает начальные центры кластеров\n",
    "#для кластеризации с k-средним разумным способом для ускорения\n",
    "#конвергенции.\n",
    "\n",
    "Kmean = KMeans(n_clusters=5)\n",
    "Kmean.fit(X)"
   ]
  },
  {
   "cell_type": "code",
   "execution_count": 15,
   "id": "775494fe-354a-4f76-b390-3e11be151b39",
   "metadata": {
    "tags": []
   },
   "outputs": [
    {
     "data": {
      "text/plain": [
       "(167, 2)"
      ]
     },
     "execution_count": 15,
     "metadata": {},
     "output_type": "execute_result"
    }
   ],
   "source": [
    "X.shape\n",
    "#определяем форму массива\n"
   ]
  },
  {
   "cell_type": "code",
   "execution_count": 10,
   "id": "6ac92596-92a1-4218-b125-9a0f9bc1a9df",
   "metadata": {},
   "outputs": [
    {
     "data": {
      "text/plain": [
       "array([[  5.27241379,  18.04827586],\n",
       "       [  7.75906977,   1.9832093 ],\n",
       "       [  5.07      , 104.        ],\n",
       "       [  6.17591837,   8.50020408],\n",
       "       [  5.175     ,  42.55      ]])"
      ]
     },
     "execution_count": 10,
     "metadata": {},
     "output_type": "execute_result"
    }
   ],
   "source": [
    "centroids =Kmean.cluster_centers_ # поиск центроидов кластеров\n",
    "centroids"
   ]
  },
  {
   "cell_type": "code",
   "execution_count": 11,
   "id": "8667a71a-2ac6-4d70-85eb-f70d3ef9923e",
   "metadata": {},
   "outputs": [
    {
     "data": {
      "image/png": "[encoded data removed]",
      "text/plain": [
       "<Figure size 640x480 with 1 Axes>"
      ]
     },
     "metadata": {},
     "output_type": "display_data"
    }
   ],
   "source": [
    "sample_test=np.array(X) # новая заданная точка даных\n",
    "\n",
    "plt.scatter(X[ : , 0], X[ : , 1], s =50, c='b') # визуализация центроидов \n",
    "plt.scatter(centroids[1,0],centroids[1,1], s=200, c='g', marker='s')\n",
    "plt.scatter(centroids[0,0],centroids[0,1], s=200, c='y', marker='s')\n",
    "plt.scatter(centroids[2, 0], centroids[2, 1], s = 200, c = 'r', marker='s')\n",
    "plt.scatter(centroids[3, 0], centroids[3, 1], s = 200, c = 'cyan', marker='s')\n",
    "plt.scatter(centroids[4, 0], centroids[4, 1], s = 200, c = 'magenta', marker='s')\n",
    "plt.plot(sample_test[4], sample_test[4],'ro') # визуализация заданной точки данных\n",
    "plt.show()"
   ]
  },
  {
   "cell_type": "code",
   "execution_count": 16,
   "id": "f15b84b2-12c9-47df-bc0c-16a0448614e0",
   "metadata": {},
   "outputs": [
    {
     "data": {
      "image/png": "[encoded data removed]",
      "text/plain": [
       "<Figure size 640x480 with 1 Axes>"
      ]
     },
     "metadata": {},
     "output_type": "display_data"
    }
   ],
   "source": [
    "# Реализация иерархической кластеризации при помощи функции linkage\n",
    "mergings = linkage(X, method='complete')\n",
    "\n",
    "# Строим дендрограмму\n",
    "dendrogram(mergings,\n",
    "            # labels=varieties,\n",
    "           leaf_rotation=90,\n",
    "           leaf_font_size=6,\n",
    "           )\n",
    "\n",
    "plt.show()"
   ]
  },
  {
   "cell_type": "code",
   "execution_count": 17,
   "id": "a2b91c55-2519-47e4-9c89-82dc146c8f92",
   "metadata": {},
   "outputs": [
    {
     "data": {
      "text/plain": [
       "(166, 4)"
      ]
     },
     "execution_count": 17,
     "metadata": {},
     "output_type": "execute_result"
    }
   ],
   "source": [
    "mergings.shape"
   ]
  },
  {
   "cell_type": "code",
   "execution_count": 18,
   "id": "29841042-2f0e-4da7-af6a-df5d0cc28f3d",
   "metadata": {},
   "outputs": [
    {
     "data": {
      "text/plain": [
       "0.42656445688422606"
      ]
     },
     "execution_count": 18,
     "metadata": {},
     "output_type": "execute_result"
    }
   ],
   "source": [
    "y2= data.iloc[:, [6]].values\n",
    "\n",
    "silhouette_score(X, Kmean.labels_)"
   ]
  },
  {
   "cell_type": "code",
   "execution_count": 19,
   "id": "239d6503-f882-43f5-b8bd-cb95ab0aa349",
   "metadata": {},
   "outputs": [
    {
     "name": "stdout",
     "output_type": "stream",
     "text": [
      "[[1.12000000e+02 1.62000000e+02 1.14017543e-01 2.00000000e+00]\n",
      " [7.50000000e+01 1.39000000e+02 1.59314155e-01 2.00000000e+00]\n",
      " [1.60000000e+01 1.05000000e+02 1.64000000e-01 2.00000000e+00]\n",
      " [1.07000000e+02 1.23000000e+02 1.70880075e-01 2.00000000e+00]\n",
      " [5.20000000e+01 9.70000000e+01 1.84390889e-01 2.00000000e+00]\n",
      " [2.50000000e+01 1.53000000e+02 2.00000000e-01 2.00000000e+00]\n",
      " [9.00000000e+00 1.66000000e+02 2.00249844e-01 2.00000000e+00]\n",
      " [5.40000000e+01 1.10000000e+02 2.02000000e-01 2.00000000e+00]\n",
      " [7.40000000e+01 1.21000000e+02 2.02484567e-01 2.00000000e+00]\n",
      " [5.30000000e+01 1.34000000e+02 2.08700743e-01 2.00000000e+00]\n",
      " [5.00000000e+00 3.70000000e+01 2.14709106e-01 2.00000000e+00]\n",
      " [8.00000000e+00 1.22000000e+02 2.30000000e-01 2.00000000e+00]\n",
      " [2.00000000e+01 8.10000000e+01 2.33238076e-01 2.00000000e+00]\n",
      " [9.40000000e+01 1.64000000e+02 2.50000000e-01 2.00000000e+00]\n",
      " [4.20000000e+01 5.10000000e+01 2.76586334e-01 2.00000000e+00]\n",
      " [6.70000000e+01 9.00000000e+01 2.94278779e-01 2.00000000e+00]\n",
      " [3.50000000e+01 9.10000000e+01 3.00000000e-01 2.00000000e+00]\n",
      " [6.50000000e+01 1.19000000e+02 3.00665928e-01 2.00000000e+00]\n",
      " [1.20000000e+02 1.48000000e+02 3.04138127e-01 2.00000000e+00]\n",
      " [4.00000000e+00 1.00000000e+02 3.11448230e-01 2.00000000e+00]\n",
      " [1.10000000e+01 1.06000000e+02 3.12409987e-01 2.00000000e+00]\n",
      " [6.20000000e+01 6.60000000e+01 3.15753068e-01 2.00000000e+00]\n",
      " [1.80000000e+01 1.84000000e+02 3.16227766e-01 3.00000000e+00]\n",
      " [4.70000000e+01 7.60000000e+01 3.26496554e-01 2.00000000e+00]\n",
      " [6.90000000e+01 9.30000000e+01 3.38378486e-01 2.00000000e+00]\n",
      " [7.00000000e+01 1.15000000e+02 3.40000000e-01 2.00000000e+00]\n",
      " [2.10000000e+01 3.30000000e+01 3.42344855e-01 2.00000000e+00]\n",
      " [1.40000000e+01 1.09000000e+02 3.60000000e-01 2.00000000e+00]\n",
      " [2.90000000e+01 4.40000000e+01 3.64005494e-01 2.00000000e+00]\n",
      " [4.10000000e+01 1.50000000e+02 3.75474367e-01 2.00000000e+00]\n",
      " [9.20000000e+01 1.82000000e+02 3.76430604e-01 3.00000000e+00]\n",
      " [1.70000000e+01 3.00000000e+01 3.80131556e-01 2.00000000e+00]\n",
      " [1.29000000e+02 1.81000000e+02 3.86005181e-01 3.00000000e+00]\n",
      " [5.00000000e+01 8.20000000e+01 4.01123422e-01 2.00000000e+00]\n",
      " [3.00000000e+00 1.40000000e+02 4.10000000e-01 2.00000000e+00]\n",
      " [5.80000000e+01 1.74000000e+02 4.18645435e-01 3.00000000e+00]\n",
      " [2.80000000e+01 8.00000000e+01 4.20475921e-01 2.00000000e+00]\n",
      " [2.70000000e+01 1.24000000e+02 4.22018957e-01 2.00000000e+00]\n",
      " [1.08000000e+02 1.38000000e+02 4.27200187e-01 2.00000000e+00]\n",
      " [1.43000000e+02 1.72000000e+02 4.74341649e-01 3.00000000e+00]\n",
      " [6.80000000e+01 1.14000000e+02 4.86621002e-01 2.00000000e+00]\n",
      " [6.00000000e+00 9.50000000e+01 5.00099990e-01 2.00000000e+00]\n",
      " [1.41000000e+02 1.71000000e+02 5.14781507e-01 3.00000000e+00]\n",
      " [1.04000000e+02 1.58000000e+02 5.30848378e-01 2.00000000e+00]\n",
      " [6.40000000e+01 1.17000000e+02 5.51724569e-01 2.00000000e+00]\n",
      " [7.80000000e+01 1.93000000e+02 5.54707130e-01 3.00000000e+00]\n",
      " [1.90000000e+01 8.40000000e+01 5.59732079e-01 2.00000000e+00]\n",
      " [5.90000000e+01 6.30000000e+01 5.78013841e-01 2.00000000e+00]\n",
      " [3.60000000e+01 1.51000000e+02 5.91354378e-01 2.00000000e+00]\n",
      " [1.36000000e+02 1.37000000e+02 6.03075451e-01 2.00000000e+00]\n",
      " [4.00000000e+01 1.89000000e+02 6.08276253e-01 4.00000000e+00]\n",
      " [7.90000000e+01 9.90000000e+01 6.11882342e-01 2.00000000e+00]\n",
      " [4.80000000e+01 9.60000000e+01 6.23939100e-01 2.00000000e+00]\n",
      " [7.10000000e+01 1.61000000e+02 6.35688603e-01 2.00000000e+00]\n",
      " [2.30000000e+01 5.50000000e+01 6.67532771e-01 2.00000000e+00]\n",
      " [4.50000000e+01 1.88000000e+02 6.97782201e-01 3.00000000e+00]\n",
      " [1.50000000e+01 1.79000000e+02 6.99714227e-01 3.00000000e+00]\n",
      " [5.60000000e+01 1.52000000e+02 7.07672241e-01 2.00000000e+00]\n",
      " [3.40000000e+01 1.87000000e+02 7.13862732e-01 3.00000000e+00]\n",
      " [1.00000000e+01 1.30000000e+01 7.18467814e-01 2.00000000e+00]\n",
      " [6.00000000e+01 1.78000000e+02 7.28010989e-01 3.00000000e+00]\n",
      " [1.67000000e+02 2.03000000e+02 7.28628849e-01 4.00000000e+00]\n",
      " [2.40000000e+01 1.27000000e+02 7.29451849e-01 2.00000000e+00]\n",
      " [8.30000000e+01 1.47000000e+02 7.69025357e-01 2.00000000e+00]\n",
      " [1.44000000e+02 2.10000000e+02 8.00800225e-01 3.00000000e+00]\n",
      " [1.68000000e+02 1.76000000e+02 8.17389136e-01 4.00000000e+00]\n",
      " [1.45000000e+02 2.02000000e+02 8.35038322e-01 4.00000000e+00]\n",
      " [1.16000000e+02 2.00000000e+02 8.37615664e-01 3.00000000e+00]\n",
      " [1.75000000e+02 1.97000000e+02 8.48645980e-01 5.00000000e+00]\n",
      " [3.90000000e+01 1.30000000e+02 8.52115016e-01 2.00000000e+00]\n",
      " [1.86000000e+02 1.99000000e+02 8.80511215e-01 5.00000000e+00]\n",
      " [1.00000000e+00 2.24000000e+02 8.80738327e-01 3.00000000e+00]\n",
      " [1.25000000e+02 1.73000000e+02 8.94427191e-01 3.00000000e+00]\n",
      " [1.18000000e+02 2.17000000e+02 9.10494371e-01 5.00000000e+00]\n",
      " [7.70000000e+01 1.35000000e+02 9.16498227e-01 2.00000000e+00]\n",
      " [2.05000000e+02 2.19000000e+02 9.19238816e-01 4.00000000e+00]\n",
      " [6.10000000e+01 1.69000000e+02 9.33380951e-01 3.00000000e+00]\n",
      " [1.33000000e+02 1.98000000e+02 9.41467472e-01 3.00000000e+00]\n",
      " [1.46000000e+02 1.80000000e+02 9.48472456e-01 3.00000000e+00]\n",
      " [2.14000000e+02 2.20000000e+02 9.66643678e-01 4.00000000e+00]\n",
      " [2.09000000e+02 2.15000000e+02 9.68297475e-01 5.00000000e+00]\n",
      " [7.00000000e+00 2.31000000e+02 9.98098192e-01 4.00000000e+00]\n",
      " [9.80000000e+01 1.83000000e+02 1.06042444e+00 3.00000000e+00]\n",
      " [8.60000000e+01 2.26000000e+02 1.06665880e+00 3.00000000e+00]\n",
      " [2.08000000e+02 2.25000000e+02 1.06667708e+00 5.00000000e+00]\n",
      " [1.91000000e+02 2.13000000e+02 1.07004673e+00 4.00000000e+00]\n",
      " [8.70000000e+01 1.11000000e+02 1.08461975e+00 2.00000000e+00]\n",
      " [1.26000000e+02 1.95000000e+02 1.08724422e+00 3.00000000e+00]\n",
      " [2.20000000e+01 5.70000000e+01 1.09895405e+00 2.00000000e+00]\n",
      " [2.00000000e+00 1.28000000e+02 1.10652610e+00 2.00000000e+00]\n",
      " [0.00000000e+00 2.12000000e+02 1.10981981e+00 4.00000000e+00]\n",
      " [2.60000000e+01 1.02000000e+02 1.20415946e+00 2.00000000e+00]\n",
      " [1.20000000e+01 3.20000000e+01 1.25801431e+00 2.00000000e+00]\n",
      " [2.29000000e+02 2.35000000e+02 1.30384048e+00 7.00000000e+00]\n",
      " [2.23000000e+02 2.27000000e+02 1.31049952e+00 6.00000000e+00]\n",
      " [4.30000000e+01 8.50000000e+01 1.34978665e+00 2.00000000e+00]\n",
      " [2.11000000e+02 2.49000000e+02 1.36857590e+00 5.00000000e+00]\n",
      " [3.10000000e+01 2.28000000e+02 1.40890028e+00 5.00000000e+00]\n",
      " [4.60000000e+01 2.16000000e+02 1.42435951e+00 3.00000000e+00]\n",
      " [1.94000000e+02 2.39000000e+02 1.44461067e+00 5.00000000e+00]\n",
      " [8.80000000e+01 2.36000000e+02 1.45880088e+00 3.00000000e+00]\n",
      " [4.90000000e+01 1.65000000e+02 1.47648231e+00 2.00000000e+00]\n",
      " [2.32000000e+02 2.48000000e+02 1.50283066e+00 8.00000000e+00]\n",
      " [2.21000000e+02 2.56000000e+02 1.53378617e+00 4.00000000e+00]\n",
      " [2.37000000e+02 2.43000000e+02 1.53394915e+00 8.00000000e+00]\n",
      " [1.60000000e+02 2.07000000e+02 1.53574086e+00 3.00000000e+00]\n",
      " [1.85000000e+02 2.47000000e+02 1.55666310e+00 7.00000000e+00]\n",
      " [1.90000000e+02 2.52000000e+02 1.58372977e+00 6.00000000e+00]\n",
      " [1.96000000e+02 2.50000000e+02 1.59120363e+00 5.00000000e+00]\n",
      " [2.04000000e+02 2.42000000e+02 1.59477271e+00 6.00000000e+00]\n",
      " [2.53000000e+02 2.54000000e+02 1.65275528e+00 5.00000000e+00]\n",
      " [8.90000000e+01 1.57000000e+02 1.71417619e+00 2.00000000e+00]\n",
      " [2.33000000e+02 2.61000000e+02 1.75583855e+00 1.00000000e+01]\n",
      " [2.51000000e+02 2.59000000e+02 1.76241312e+00 7.00000000e+00]\n",
      " [2.22000000e+02 2.38000000e+02 1.77395039e+00 6.00000000e+00]\n",
      " [1.56000000e+02 2.45000000e+02 1.95897933e+00 4.00000000e+00]\n",
      " [1.42000000e+02 2.18000000e+02 2.03423204e+00 3.00000000e+00]\n",
      " [3.80000000e+01 2.01000000e+02 2.15415877e+00 3.00000000e+00]\n",
      " [7.30000000e+01 2.41000000e+02 2.24381127e+00 3.00000000e+00]\n",
      " [2.06000000e+02 2.65000000e+02 2.29686743e+00 6.00000000e+00]\n",
      " [1.55000000e+02 2.55000000e+02 2.32176657e+00 3.00000000e+00]\n",
      " [2.40000000e+02 2.81000000e+02 2.39353295e+00 1.10000000e+01]\n",
      " [2.64000000e+02 2.71000000e+02 2.42390181e+00 1.30000000e+01]\n",
      " [2.30000000e+02 2.57000000e+02 2.43402958e+00 6.00000000e+00]\n",
      " [1.92000000e+02 2.70000000e+02 2.53621766e+00 6.00000000e+00]\n",
      " [2.62000000e+02 2.75000000e+02 2.62011450e+00 7.00000000e+00]\n",
      " [2.60000000e+02 2.76000000e+02 2.74235300e+00 1.30000000e+01]\n",
      " [1.54000000e+02 2.44000000e+02 2.77170273e+00 4.00000000e+00]\n",
      " [2.46000000e+02 2.66000000e+02 2.87673426e+00 9.00000000e+00]\n",
      " [2.72000000e+02 2.86000000e+02 3.07362978e+00 9.00000000e+00]\n",
      " [2.69000000e+02 2.79000000e+02 3.18531694e+00 1.80000000e+01]\n",
      " [2.63000000e+02 2.93000000e+02 3.25066147e+00 1.80000000e+01]\n",
      " [1.70000000e+02 2.80000000e+02 3.46346647e+00 9.00000000e+00]\n",
      " [2.73000000e+02 2.88000000e+02 3.52177512e+00 1.80000000e+01]\n",
      " [2.34000000e+02 2.74000000e+02 3.56437933e+00 9.00000000e+00]\n",
      " [2.89000000e+02 2.94000000e+02 3.82602927e+00 1.70000000e+01]\n",
      " [2.67000000e+02 2.77000000e+02 3.98015075e+00 8.00000000e+00]\n",
      " [7.20000000e+01 2.95000000e+02 4.10474116e+00 1.00000000e+01]\n",
      " [2.78000000e+02 2.82000000e+02 4.15855744e+00 6.00000000e+00]\n",
      " [2.87000000e+02 2.90000000e+02 4.17958132e+00 9.00000000e+00]\n",
      " [1.77000000e+02 2.83000000e+02 4.19715380e+00 5.00000000e+00]\n",
      " [1.01000000e+02 3.03000000e+02 4.33202031e+00 9.00000000e+00]\n",
      " [2.68000000e+02 2.84000000e+02 4.66051499e+00 5.00000000e+00]\n",
      " [2.85000000e+02 2.92000000e+02 4.66171642e+00 1.00000000e+01]\n",
      " [2.98000000e+02 3.00000000e+02 5.15783869e+00 3.60000000e+01]\n",
      " [2.99000000e+02 3.01000000e+02 5.53543133e+00 1.80000000e+01]\n",
      " [2.97000000e+02 3.10000000e+02 5.54215157e+00 2.80000000e+01]\n",
      " [2.96000000e+02 3.06000000e+02 5.72814979e+00 1.80000000e+01]\n",
      " [2.91000000e+02 3.04000000e+02 5.94390444e+00 1.60000000e+01]\n",
      " [3.07000000e+02 3.09000000e+02 6.00040832e+00 1.00000000e+01]\n",
      " [1.32000000e+02 2.58000000e+02 6.25859409e+00 3.00000000e+00]\n",
      " [3.05000000e+02 3.15000000e+02 6.27475099e+00 2.20000000e+01]\n",
      " [3.02000000e+02 3.11000000e+02 6.43594717e+00 5.30000000e+01]\n",
      " [1.03000000e+02 1.63000000e+02 6.72093000e+00 2.00000000e+00]\n",
      " [1.59000000e+02 3.08000000e+02 8.82981314e+00 1.00000000e+01]\n",
      " [1.49000000e+02 3.16000000e+02 8.94114646e+00 1.10000000e+01]\n",
      " [3.12000000e+02 3.14000000e+02 9.11068055e+00 3.60000000e+01]\n",
      " [1.31000000e+02 3.13000000e+02 9.99587915e+00 2.90000000e+01]\n",
      " [3.19000000e+02 3.24000000e+02 1.06017451e+01 8.20000000e+01]\n",
      " [3.17000000e+02 3.18000000e+02 1.06606801e+01 2.50000000e+01]\n",
      " [3.23000000e+02 3.26000000e+02 1.52286736e+01 6.10000000e+01]\n",
      " [3.21000000e+02 3.25000000e+02 1.54833750e+01 9.20000000e+01]\n",
      " [3.22000000e+02 3.27000000e+02 2.16037265e+01 7.20000000e+01]\n",
      " [3.28000000e+02 3.29000000e+02 3.12381578e+01 1.64000000e+02]\n",
      " [3.20000000e+02 3.30000000e+02 5.01327458e+01 1.66000000e+02]\n",
      " [1.13000000e+02 3.31000000e+02 1.08222886e+02 1.67000000e+02]]\n"
     ]
    }
   ],
   "source": [
    "print(mergings)"
   ]
  },
  {
   "cell_type": "code",
   "execution_count": null,
   "id": "708136b3-bf68-4420-ad63-aae6e23bcfb0",
   "metadata": {},
   "outputs": [],
   "source": []
  }
 ],
 "metadata": {
  "kernelspec": {
   "display_name": "Python 3 (ipykernel)",
   "language": "python",
   "name": "python3"
  },
  "language_info": {
   "codemirror_mode": {
    "name": "ipython",
    "version": 3
   },
   "file_extension": ".py",
   "mimetype": "text/x-python",
   "name": "python",
   "nbconvert_exporter": "python",
   "pygments_lexer": "ipython3",
   "version": "3.10.2"
  }
 },
 "nbformat": 4,
 "nbformat_minor": 5
}
