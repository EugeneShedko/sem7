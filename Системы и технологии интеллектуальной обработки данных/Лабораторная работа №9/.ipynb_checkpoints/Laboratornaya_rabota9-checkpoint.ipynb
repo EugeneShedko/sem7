{
 "cells": [
  {
   "cell_type": "code",
   "execution_count": 1,
   "id": "00d3e0b1-1c59-4bab-a9f2-dc0e50b11ca4",
   "metadata": {},
   "outputs": [
    {
     "name": "stderr",
     "output_type": "stream",
     "text": [
      "[nltk_data] Downloading package stopwords to\n",
      "[nltk_data]     C:\\Users\\stude\\AppData\\Roaming\\nltk_data...\n",
      "[nltk_data]   Package stopwords is already up-to-date!\n",
      "[nltk_data] Downloading package wordnet to\n",
      "[nltk_data]     C:\\Users\\stude\\AppData\\Roaming\\nltk_data...\n",
      "[nltk_data]   Package wordnet is already up-to-date!\n",
      "[nltk_data] Downloading package omw-1.4 to\n",
      "[nltk_data]     C:\\Users\\stude\\AppData\\Roaming\\nltk_data...\n",
      "[nltk_data]   Package omw-1.4 is already up-to-date!\n"
     ]
    }
   ],
   "source": [
    "import warnings\n",
    "warnings.filterwarnings(\"ignore\")\n",
    "import pandas as pd\n",
    "import numpy as np\n",
    "import seaborn as sns\n",
    "import matplotlib.pyplot as plt\n",
    "import matplotlib.mlab as mlab\n",
    "\n",
    "import re\n",
    "import nltk\n",
    "nltk.download('stopwords')\n",
    "nltk.download('wordnet')\n",
    "nltk.download('omw-1.4')\n",
    "import pickle\n",
    "from nltk.corpus import stopwords\n",
    "from nltk.corpus import wordnet\n",
    "\n",
    "from sklearn.model_selection import train_test_split\n",
    "from sklearn.neighbors import KNeighborsClassifier\n",
    "from sklearn.model_selection import GridSearchCV\n",
    "from sklearn.tree import DecisionTreeClassifier\n",
    "from sklearn.ensemble import RandomForestClassifier\n",
    "from sklearn.svm import SVC"
   ]
  },
  {
   "cell_type": "code",
   "execution_count": 2,
   "id": "ac848eee-0753-4ed7-bfcb-81acf8597ab2",
   "metadata": {},
   "outputs": [
    {
     "data": {
      "text/html": [
       "<div>\n",
       "<style scoped>\n",
       "    .dataframe tbody tr th:only-of-type {\n",
       "        vertical-align: middle;\n",
       "    }\n",
       "\n",
       "    .dataframe tbody tr th {\n",
       "        vertical-align: top;\n",
       "    }\n",
       "\n",
       "    .dataframe thead th {\n",
       "        text-align: right;\n",
       "    }\n",
       "</style>\n",
       "<table border=\"1\" class=\"dataframe\">\n",
       "  <thead>\n",
       "    <tr style=\"text-align: right;\">\n",
       "      <th></th>\n",
       "      <th>Category</th>\n",
       "      <th>Message</th>\n",
       "    </tr>\n",
       "  </thead>\n",
       "  <tbody>\n",
       "    <tr>\n",
       "      <th>0</th>\n",
       "      <td>ham</td>\n",
       "      <td>Go until jurong point, crazy.. Available only ...</td>\n",
       "    </tr>\n",
       "    <tr>\n",
       "      <th>1</th>\n",
       "      <td>ham</td>\n",
       "      <td>Ok lar... Joking wif u oni...</td>\n",
       "    </tr>\n",
       "    <tr>\n",
       "      <th>2</th>\n",
       "      <td>spam</td>\n",
       "      <td>Free entry in 2 a wkly comp to win FA Cup fina...</td>\n",
       "    </tr>\n",
       "    <tr>\n",
       "      <th>3</th>\n",
       "      <td>ham</td>\n",
       "      <td>U dun say so early hor... U c already then say...</td>\n",
       "    </tr>\n",
       "    <tr>\n",
       "      <th>4</th>\n",
       "      <td>ham</td>\n",
       "      <td>Nah I don't think he goes to usf, he lives aro...</td>\n",
       "    </tr>\n",
       "    <tr>\n",
       "      <th>...</th>\n",
       "      <td>...</td>\n",
       "      <td>...</td>\n",
       "    </tr>\n",
       "    <tr>\n",
       "      <th>5567</th>\n",
       "      <td>spam</td>\n",
       "      <td>This is the 2nd time we have tried 2 contact u...</td>\n",
       "    </tr>\n",
       "    <tr>\n",
       "      <th>5568</th>\n",
       "      <td>ham</td>\n",
       "      <td>Will ü b going to esplanade fr home?</td>\n",
       "    </tr>\n",
       "    <tr>\n",
       "      <th>5569</th>\n",
       "      <td>ham</td>\n",
       "      <td>Pity, * was in mood for that. So...any other s...</td>\n",
       "    </tr>\n",
       "    <tr>\n",
       "      <th>5570</th>\n",
       "      <td>ham</td>\n",
       "      <td>The guy did some bitching but I acted like i'd...</td>\n",
       "    </tr>\n",
       "    <tr>\n",
       "      <th>5571</th>\n",
       "      <td>ham</td>\n",
       "      <td>Rofl. Its true to its name</td>\n",
       "    </tr>\n",
       "  </tbody>\n",
       "</table>\n",
       "<p>5572 rows × 2 columns</p>\n",
       "</div>"
      ],
      "text/plain": [
       "     Category                                            Message\n",
       "0         ham  Go until jurong point, crazy.. Available only ...\n",
       "1         ham                      Ok lar... Joking wif u oni...\n",
       "2        spam  Free entry in 2 a wkly comp to win FA Cup fina...\n",
       "3         ham  U dun say so early hor... U c already then say...\n",
       "4         ham  Nah I don't think he goes to usf, he lives aro...\n",
       "...       ...                                                ...\n",
       "5567     spam  This is the 2nd time we have tried 2 contact u...\n",
       "5568      ham               Will ü b going to esplanade fr home?\n",
       "5569      ham  Pity, * was in mood for that. So...any other s...\n",
       "5570      ham  The guy did some bitching but I acted like i'd...\n",
       "5571      ham                         Rofl. Its true to its name\n",
       "\n",
       "[5572 rows x 2 columns]"
      ]
     },
     "execution_count": 2,
     "metadata": {},
     "output_type": "execute_result"
    }
   ],
   "source": [
    "spam = pd.read_csv(\"spam.csv\", encoding='utf-8')\n",
    "X = spam['Message']\n",
    "y = spam[['Category']]\n",
    "spam"
   ]
  },
  {
   "cell_type": "code",
   "execution_count": 3,
   "id": "b7cf4627-4eca-4d33-bffb-8289d6ef8cf3",
   "metadata": {},
   "outputs": [
    {
     "data": {
      "text/plain": [
       "['go until jurong point crazy available only in bugis great world la buffet cine there got amore wat',\n",
       " 'ok lar joking wif oni',\n",
       " 'free entry in 2 wkly comp to win fa cup final tkts 21st may 2005 text fa to 87121 to receive entry question std txt rate c apply 08452810075over18 s',\n",
       " 'u dun say so early hor c already then say',\n",
       " 'nah don think he go to usf he life around here though',\n",
       " 'freemsg hey there darling it been 3 week now and no word back d like some fun you up for it still tb ok xxx std chgs to send 1 50 to rcv',\n",
       " 'even my brother is not like to speak with me they treat me like aid patent',\n",
       " 'a per your request melle melle oru minnaminunginte nurungu vettam ha been set a your callertune for all caller press 9 to copy your friend callertune',\n",
       " 'winner a valued network customer you have been selected to receivea 900 prize reward to claim call 09061701461 claim code kl341 valid 12 hour only',\n",
       " 'had your mobile 11 month or more r entitled to update to the latest colour mobile with camera for free call the mobile update co free on 08002986030']"
      ]
     },
     "execution_count": 3,
     "metadata": {},
     "output_type": "execute_result"
    }
   ],
   "source": [
    "documents = []\n",
    "\n",
    "from nltk.stem import WordNetLemmatizer\n",
    "\n",
    "stemmer = WordNetLemmatizer()\n",
    "\n",
    "for sen in range(0, len(X)):\n",
    "    # Удалить все специальные символы\n",
    "    document = re.sub(r'\\W', ' ', str(X[sen]))\n",
    "    \n",
    "    # удалить все одиночные символы\n",
    "    document = re.sub(r'\\s+[a-zA-Z]\\s+', ' ', document)\n",
    "    \n",
    "    # Удалить отдельные символы с начала\n",
    "    document = re.sub(r'\\^[a-zA-Z]\\s+', ' ', document) \n",
    "    \n",
    "    # Замена нескольких пробелов одним пробелом\n",
    "    document = re.sub(r'\\s+', ' ', document, flags=re.I)\n",
    "    \n",
    "    # Удаление префикса «б»\n",
    "    document = re.sub(r'^b\\s+', '', document)\n",
    "    \n",
    "    # Преобразование в нижний регистр\n",
    "    document = document.lower()\n",
    "    \n",
    "    # лемматизация - процесс приведения словоформы к лемме — её нормальной (словарной) форме\n",
    "    document = document.split()\n",
    "\n",
    "    document = [stemmer.lemmatize(word) for word in document]\n",
    "    document = ' '.join(document)\n",
    "    \n",
    "    documents.append(document)\n",
    "    \n",
    "documents[:10]"
   ]
  },
  {
   "cell_type": "code",
   "execution_count": 4,
   "id": "183a04cd-12bb-4403-9c2c-3cfa0236fd62",
   "metadata": {},
   "outputs": [
    {
     "name": "stdout",
     "output_type": "stream",
     "text": [
      "[[0 0 0 ... 0 0 0]\n",
      " [0 0 0 ... 0 1 0]\n",
      " [0 0 0 ... 0 0 0]\n",
      " ...\n",
      " [0 0 0 ... 0 0 0]\n",
      " [0 0 0 ... 0 0 0]\n",
      " [0 0 0 ... 0 0 0]]\n",
      "0 0 0 0 0 1 0 0 0 0 0 0 0\n"
     ]
    }
   ],
   "source": [
    "from sklearn.feature_extraction.text import CountVectorizer\n",
    "vectorizer = CountVectorizer(max_features=13, min_df=5, max_df=0.7, stop_words=stopwords.words('english'))\n",
    "X = vectorizer.fit_transform(documents).toarray()\n",
    "print(X)\n",
    "print(*X[0])"
   ]
  },
  {
   "cell_type": "code",
   "execution_count": 5,
   "id": "80448ab8-f173-451b-a9ef-939b87452d21",
   "metadata": {},
   "outputs": [
    {
     "data": {
      "text/html": [
       "<div>\n",
       "<style scoped>\n",
       "    .dataframe tbody tr th:only-of-type {\n",
       "        vertical-align: middle;\n",
       "    }\n",
       "\n",
       "    .dataframe tbody tr th {\n",
       "        vertical-align: top;\n",
       "    }\n",
       "\n",
       "    .dataframe thead th {\n",
       "        text-align: right;\n",
       "    }\n",
       "</style>\n",
       "<table border=\"1\" class=\"dataframe\">\n",
       "  <thead>\n",
       "    <tr style=\"text-align: right;\">\n",
       "      <th></th>\n",
       "      <th>Category</th>\n",
       "    </tr>\n",
       "  </thead>\n",
       "  <tbody>\n",
       "    <tr>\n",
       "      <th>0</th>\n",
       "      <td>0</td>\n",
       "    </tr>\n",
       "    <tr>\n",
       "      <th>1</th>\n",
       "      <td>0</td>\n",
       "    </tr>\n",
       "    <tr>\n",
       "      <th>2</th>\n",
       "      <td>1</td>\n",
       "    </tr>\n",
       "    <tr>\n",
       "      <th>3</th>\n",
       "      <td>0</td>\n",
       "    </tr>\n",
       "    <tr>\n",
       "      <th>4</th>\n",
       "      <td>0</td>\n",
       "    </tr>\n",
       "    <tr>\n",
       "      <th>...</th>\n",
       "      <td>...</td>\n",
       "    </tr>\n",
       "    <tr>\n",
       "      <th>5567</th>\n",
       "      <td>1</td>\n",
       "    </tr>\n",
       "    <tr>\n",
       "      <th>5568</th>\n",
       "      <td>0</td>\n",
       "    </tr>\n",
       "    <tr>\n",
       "      <th>5569</th>\n",
       "      <td>0</td>\n",
       "    </tr>\n",
       "    <tr>\n",
       "      <th>5570</th>\n",
       "      <td>0</td>\n",
       "    </tr>\n",
       "    <tr>\n",
       "      <th>5571</th>\n",
       "      <td>0</td>\n",
       "    </tr>\n",
       "  </tbody>\n",
       "</table>\n",
       "<p>5572 rows × 1 columns</p>\n",
       "</div>"
      ],
      "text/plain": [
       "      Category\n",
       "0            0\n",
       "1            0\n",
       "2            1\n",
       "3            0\n",
       "4            0\n",
       "...        ...\n",
       "5567         1\n",
       "5568         0\n",
       "5569         0\n",
       "5570         0\n",
       "5571         0\n",
       "\n",
       "[5572 rows x 1 columns]"
      ]
     },
     "execution_count": 5,
     "metadata": {},
     "output_type": "execute_result"
    }
   ],
   "source": [
    "codes = {\n",
    "    'ham': 0,\n",
    "    'spam': 1\n",
    "}\n",
    "y = y.replace({'Category': codes})\n",
    "y"
   ]
  },
  {
   "cell_type": "code",
   "execution_count": 6,
   "id": "234694c6-e8ee-41d2-bf95-1da38f6923d9",
   "metadata": {},
   "outputs": [],
   "source": [
    "from sklearn.model_selection import train_test_split\n",
    "X_train, X_test, y_train, y_test = train_test_split(X, y.values.ravel(), test_size=0.2, random_state=0)"
   ]
  },
  {
   "cell_type": "code",
   "execution_count": 7,
   "id": "cd8570eb-90d6-459c-bfc9-bf479517d6d1",
   "metadata": {},
   "outputs": [
    {
     "data": {
      "text/plain": [
       "0.884304932735426"
      ]
     },
     "execution_count": 7,
     "metadata": {},
     "output_type": "execute_result"
    }
   ],
   "source": [
    "# К ближайших соседей\n",
    "model = KNeighborsClassifier(n_neighbors=1)\n",
    "model.fit(X_train, y_train)\n",
    "model.score(X_test, y_test)"
   ]
  },
  {
   "cell_type": "code",
   "execution_count": 8,
   "id": "ee2bab25-6aeb-404c-9db9-f8091c1fadee",
   "metadata": {},
   "outputs": [
    {
     "data": {
      "text/plain": [
       "0.9022421524663677"
      ]
     },
     "execution_count": 8,
     "metadata": {},
     "output_type": "execute_result"
    }
   ],
   "source": [
    "# Деревья решений\n",
    "model = DecisionTreeClassifier(max_depth=4, random_state=0)\n",
    "model.fit(X_train, y_train)\n",
    "model.score(X_test, y_test)"
   ]
  },
  {
   "cell_type": "code",
   "execution_count": 9,
   "id": "904b46f5-6fe7-4887-9789-0ce311bd642d",
   "metadata": {},
   "outputs": [
    {
     "data": {
      "text/plain": [
       "0.9094170403587444"
      ]
     },
     "execution_count": 9,
     "metadata": {},
     "output_type": "execute_result"
    }
   ],
   "source": [
    "# Метод опорных векторов SVC\n",
    "model = SVC(C=1, gamma=1, random_state=0)\n",
    "model.fit(X_train, y_train)\n",
    "model.score(X_test, y_test)"
   ]
  },
  {
   "cell_type": "code",
   "execution_count": 10,
   "id": "54a550d3-aa37-4b3a-bd19-3ff604c82aba",
   "metadata": {},
   "outputs": [
    {
     "data": {
      "text/plain": [
       "0.9103139013452914"
      ]
     },
     "execution_count": 10,
     "metadata": {},
     "output_type": "execute_result"
    }
   ],
   "source": [
    "# Случайный лес\n",
    "model = RandomForestClassifier(n_estimators=5, random_state=0)\n",
    "model.fit(X_train, y_train)\n",
    "model.score(X_test, y_test)"
   ]
  },
  {
   "cell_type": "code",
   "execution_count": 11,
   "id": "8ee8d248-5a3a-4301-9dac-28f090375b28",
   "metadata": {},
   "outputs": [],
   "source": [
    "with open('text_classifier', 'wb') as picklefile:\n",
    "    pickle.dump(model,picklefile)"
   ]
  },
  {
   "cell_type": "code",
   "execution_count": 12,
   "id": "4ffc0615-b674-4b46-92d1-3eda5e31f744",
   "metadata": {},
   "outputs": [],
   "source": [
    "with open('text_classifier', 'rb') as training_model:\n",
    "    model = pickle.load(training_model)"
   ]
  },
  {
   "cell_type": "code",
   "execution_count": 13,
   "id": "3f25a0b2-6b49-4924-aec7-ca701a017774",
   "metadata": {},
   "outputs": [
    {
     "name": "stdout",
     "output_type": "stream",
     "text": [
      "[[920  35]\n",
      " [ 65  95]]\n",
      "              precision    recall  f1-score   support\n",
      "\n",
      "           0       0.93      0.96      0.95       955\n",
      "           1       0.73      0.59      0.66       160\n",
      "\n",
      "    accuracy                           0.91      1115\n",
      "   macro avg       0.83      0.78      0.80      1115\n",
      "weighted avg       0.90      0.91      0.91      1115\n",
      "\n",
      "0.9103139013452914\n"
     ]
    }
   ],
   "source": [
    "from sklearn.metrics import classification_report, confusion_matrix, accuracy_score\n",
    "\n",
    "y_pred = model.predict(X_test)\n",
    "\n",
    "print(confusion_matrix(y_test, y_pred))\n",
    "print(classification_report(y_test, y_pred))\n",
    "print(accuracy_score(y_test, y_pred)) "
   ]
  },
  {
   "cell_type": "code",
   "execution_count": 14,
   "id": "ad6059e1-e223-4c4d-9211-7c7632fd3251",
   "metadata": {},
   "outputs": [
    {
     "name": "stdout",
     "output_type": "stream",
     "text": [
      "200\n"
     ]
    }
   ],
   "source": [
    "from bs4 import BeautifulSoup\n",
    "import requests\n",
    "\n",
    "url = 'https://blog.textedly.com/spam-text-message-examples'\n",
    "\n",
    "page = requests.get(url)\n",
    "\n",
    "print(page.status_code)"
   ]
  },
  {
   "cell_type": "code",
   "execution_count": 15,
   "id": "e8586b99-d7e6-4747-a872-2a7661d2bf45",
   "metadata": {},
   "outputs": [
    {
     "name": "stdout",
     "output_type": "stream",
     "text": [
      "[<p>Have you ever received a text message from a company or person you recognized, but it didn’t seem quite “right”? </p>, <p>Spam text messages (also known as phishing or “smishing” – SMS phishing) trick consumers into providing personal data to criminals who pose as a familiar business, organization or family member. Reviewing spam text message examples can help avoid falling victim to these dangerous schemes.</p>, <p>Criminals use phishing text messages to attain usernames and passwords, social security numbers, credit card numbers and PINs to commit fraud or identity theft. Other attacks focus on duping people into downloading viruses or malware by clicking seemingly innocent links.</p>, <p>If you don’t think you’d ever fall for a phishing text scam, think again. <a href=\"https://www.robokiller.com/spam-text-insights\" rel=\"noopener\" target=\"_blank\"><span>11.94 billion spam texts were sent in May 2022</span></a> alone – that's almost 43 spam texts for every person in the U.S. In addition, while the Federal Trade Commission (FTC) noted a drop in fraudulent calls, it also saw a <a href=\"https://www.comparitech.com/blog/vpn-privacy/spam-statistics/\" rel=\"noopener\" target=\"_blank\"><strong><span>145% increase</span></strong></a> in reports of scam texting.</p>, <p>Today we’ll share ten common spam text message examples and tips for fighting back against SMS phishing scams.</p>, <p><strong>Table of Contents</strong></p>, <p>There seems to be an endless amount of spam text schemes. Check out these phishing text examples, so you know what red flags to look out for:</p>, <p>Winning an unexpected prize sounds great, in theory. However, being notified of winning a contest you didn’t enter is a dead giveaway of a phishing text. If you’re unsure whether an offer is authentic, contact the business directly to verify.</p>, <p><img alt=\"you've won a gift card spam text\" loading=\"lazy\" src=\"https://blog.textedly.com/hubfs/TXT-403-June%20Blog%203-1-jpg.jpeg\"/><span style=\"font-size: 13px; color: #5d5d5d;\"></span></p>, <p>Government agencies like the IRS will not contact you via email, phone or text message. If any legitimate government agency needs to contact you, they will usually do so via mail or certified letter.</p>, <p><img alt=\"IRS tax refund scam text\" loading=\"lazy\" src=\"https://blog.textedly.com/hubfs/TXT-403-June%20Blog%203-2-jpg.jpeg\"/></p>, <p>Notifications involving money owed to you are enticing, aren’t they? <em>“Our records show you overpaid for (a product or service). Kindly supply your bank routing and account number to receive your refund.” </em>Don’t fall for it.</p>, <p><img alt=\"Amazon refund spam text\" loading=\"lazy\" src=\"https://blog.textedly.com/hubfs/TXT-403-June%20Blog%203-3-jpg.jpeg\"/></p>, <p>Scams hiding under the guise of financial institutions like Bank of America, Wells Fargo and Chase have famously allowed scammers to steal tons of personal banking information from customers. </p>, <p>Legitimate companies won’t ask for your personal or financial information over text. So if you get a random verification text from your bank, it’s probably fake.</p>, <p><img alt=\"Verify your bank account spam text example\" loading=\"lazy\" src=\"https://blog.textedly.com/hubfs/TXT-403-June%20Blog%203-4-jpg.jpeg\"/></p>, <p>With deliveries from Amazon and FedEx so commonplace now, a text message regarding a package or order would be easy to overlook. While shippers send legitimate shipping update texts, they’ll never ask for personal information or money to complete a delivery.</p>, <p><img alt=\"Package delivery scam text example\" loading=\"lazy\" src=\"https://blog.textedly.com/hubfs/TXT-403-June%20Blog%203-5-jpg.jpeg\"/></p>, <p>Any text that attempts to verify your Apple ID or another technology account is suspicious. If you suspect your account is compromised, contact the company directly and change your passwords immediately.</p>, <p><img alt=\"Apple iCloud spam message\" loading=\"lazy\" src=\"https://blog.textedly.com/hubfs/TXT-403-June%20Blog%203-6-jpg.jpeg\"/></p>, <p>You should treat any offer of “free” bitcoin the same as any other offer of free money – with high scrutiny. Scammers often use bitcoin as currency in <a href=\"https://www.consumer.ftc.gov/blog/2020/04/scam-emails-demand-bitcoin-threaten-blackmail\" rel=\"noopener\" target=\"_blank\"><span>blackmail scams</span></a> that demand payment for withholding personal details the scammer claims to have about you.</p>, <p><img alt=\"Bitcoin spam text message example\" loading=\"lazy\" src=\"https://blog.textedly.com/hubfs/TXT-403-June%20Blog%203-7-jpg.jpeg\"/></p>, <p>One of the most disturbing spam text messages leads you to believe that a family member is in trouble and needs immediate financial help. The sender tries to convince you that wiring money is necessary to prevent a financial or medical emergency – or that a loved one is involved in a kidnapping. </p>, <p>Be cautious and contact the family member directly before proceeding. If there is a genuine emergency, it’s best to reach out to appropriate authorities before sending financial aid.</p>, <p>You can’t always trust the most seemingly innocent messages. If you receive a text that one of your accounts has been hacked or compromised, delete the message and then contact the account directly rather than responding.</p>, <p><img alt=\"Reactivate your account spam text\" loading=\"lazy\" src=\"https://blog.textedly.com/hubfs/TXT-403-June%20Blog%203-9-jpg.jpeg\"/></p>, <p>If you suddenly receive notifications that your statement is ready or if you receive a “thank you for your payment” message, proceed with caution.</p>, <p>This is another common type of scam. If it’s a company you believe you’ve done business with but you aren’t sure about any recent transaction, go online, find the company’s website and locate their customer service contact information. Never use the contact information provided in the suspicious text. </p>, <p><img alt=\"New billing statement spam example\" loading=\"lazy\" src=\"https://blog.textedly.com/hubfs/TXT-403-June%20Blog%203-10-jpg.jpeg\"/></p>, <p>Under the Telephone Consumer Protection Act <a href=\"https://www.textedly.com/sms-compliance-guide/tcpa-compliance-checklist/\" rel=\"noopener\" target=\"_blank\"><span>(TCPA)</span></a>, businesses may not send messages to you without your permission. So even if you have a long-standing relationship with a legitimate company, they cannot text you if you haven’t granted <a href=\"https://www.textedly.com/sms-compliance-guide/express-written-consent/\" rel=\"noopener\" target=\"_blank\"><span>express written consent</span></a>.  </p>, <p>Many spam messages are easy to spot; however, hackers who send phishing messages have refined their techniques over time, making them extremely convincing. Therefore, understanding how to identify a fake text message requires continuous learning. </p>, <p>Be on the lookout for the following types of spam text messages:</p>, <p>Is the sender familiar (like Amazon or Apple – the <a href=\"https://blog.checkpoint.com/2020/04/14/apple-is-most-imitated-brand-for-phishing-in-q1-2020-shows-check-point-research/\" rel=\"noopener\" target=\"_blank\"><span>most imitated brand</span></a> in all phishing scams), but the text is poorly written or full of typos? It may direct you to a spoofed website that looks legitimate but isn’t.</p>, <p>Is the sender telling you something is wrong with your account or payment method and demanding immediate action? Using urgency is a surefire way to prompt people to act without thinking.</p>, <p>Be wary of texts starting with a generic “Hello” instead of addressing you by name.</p>, <p>Are they offering gift cards, discount codes or prizes for responding with your personal information?</p>, <p>If you think you’ve received a phishing text, what should you do? Here are some best practices to help you handle spam texts appropriately.</p>, <p><strong>Bottom line: </strong>Would you give even your best friend your personal financial information or access to your passwords? If not, why would you give them to a stranger? Use your best judgment and exercise caution before responding to requests for information.  </p>, <p>Did you find this article because you’ve already responded to a spam text and don’t know what to do next? We’re here to help!</p>, <p><img alt=\"What to do if you respond to a spam text\" loading=\"lazy\" src=\"https://blog.textedly.com/hubfs/TXT-403-June%20Blog%203-11-jpg.jpeg\"/></p>, <p>People are increasingly aware of phishing text message scams. If you’re a business owner or marketer, your challenge is to ensure your <a href=\"https://www.textedly.com/sms-marketing/\" rel=\"noopener\" target=\"_blank\"><span>SMS marketing</span></a> campaigns look <a href=\"/professional-text-message-examples\" rel=\"noopener\" target=\"_blank\"><span>professional</span></a>. </p>, <p>Textedly can help your business design successful, <a href=\"/creative-sms-marketing-ideas\" rel=\"noopener\" target=\"_blank\"><span>creative SMS campaigns</span></a> that inspire trust and confidence rather than get marked as spam. Textedly provides simple SMS solutions that are easy to set up, so you can start messaging your customers right away. </p>, <p><a href=\"https://www.textedly.com/create-account?subscription_plan=free\" rel=\"noopener\" target=\"_blank\">Sign up for a free Textedly trial today!</a></p>, <p style=\"text-align: left;\"><span>Message and data rates may apply. To unsubscribe from any Textedly list, simply text <strong>‘STOP’</strong> to the originating short code or contact support.  For help text <strong>‘HELP’</strong> to the originating short code. Textedly is a 100% opt-in service. Textedly does not provide a list of phone numbers.</span></p>]\n"
     ]
    }
   ],
   "source": [
    "soup = BeautifulSoup(page.text, \"html.parser\")\n",
    "allTexts = soup.findAll('p')\n",
    "print(allTexts)"
   ]
  },
  {
   "cell_type": "code",
   "execution_count": 16,
   "id": "7dbafa27-85fc-4c5f-b8a0-ce25ecbf7864",
   "metadata": {},
   "outputs": [
    {
     "data": {
      "text/plain": [
       "['Have you ever received a text message from a company or person you recognized, but it didn’t seem quite “right”?\\xa0',\n",
       " 'Spam text messages (also known as phishing or “smishing” – SMS phishing) trick consumers into providing personal data to criminals who pose as a familiar business, organization or family member. Reviewing spam text message examples can help avoid falling victim to these dangerous schemes.',\n",
       " 'Criminals use phishing text messages to attain usernames and passwords, social security numbers, credit card numbers and PINs to commit fraud or identity theft. Other attacks focus on duping people into downloading viruses or malware by clicking seemingly innocent links.',\n",
       " \"If you don’t think you’d ever fall for a phishing text scam, think again. 11.94 billion spam texts were sent in May 2022 alone – that's almost 43 spam texts for every person in the U.S. In addition, while the Federal Trade Commission (FTC) noted a drop in fraudulent calls, it also saw a 145% increase in reports of scam texting.\",\n",
       " 'Today we’ll share ten common spam text message examples and tips for fighting back against SMS phishing scams.',\n",
       " 'Table of Contents',\n",
       " 'There seems to be an endless amount of spam text schemes. Check out these phishing text examples, so you know what red flags to look out for:',\n",
       " 'Winning an unexpected prize sounds great, in theory. However, being notified of winning a contest you didn’t enter is a dead giveaway of a phishing text. If you’re unsure whether an offer is authentic, contact the business directly to verify.',\n",
       " '',\n",
       " 'Government agencies like the IRS will not contact you via email, phone or text message. If any legitimate government agency needs to contact you, they will usually do so via mail or certified letter.',\n",
       " '',\n",
       " 'Notifications involving money owed to you are enticing, aren’t they? “Our records show you overpaid for (a product or service). Kindly supply your bank routing and account number to receive your refund.” Don’t fall for it.',\n",
       " '',\n",
       " 'Scams hiding under the guise of financial institutions like Bank of America, Wells Fargo and Chase have famously allowed scammers to steal tons of personal banking information from customers.\\xa0',\n",
       " 'Legitimate companies won’t ask for your personal or financial information over text. So if you get a random verification text from your bank, it’s probably fake.',\n",
       " '',\n",
       " 'With deliveries from Amazon and FedEx so commonplace now, a text message regarding a package or order would be easy to overlook. While shippers send legitimate shipping update texts, they’ll never ask for personal information or money to complete a delivery.',\n",
       " '',\n",
       " 'Any text that attempts to verify your Apple ID or another technology account is suspicious. If you suspect your account is compromised, contact the company directly and change your passwords immediately.',\n",
       " '']"
      ]
     },
     "execution_count": 16,
     "metadata": {},
     "output_type": "execute_result"
    }
   ],
   "source": [
    "filteredTexts = []\n",
    "\n",
    "for data in allTexts:\n",
    "    filteredTexts.append(data.text)\n",
    "        \n",
    "filteredTexts[:20]"
   ]
  },
  {
   "cell_type": "code",
   "execution_count": 17,
   "id": "6a3afe74-4fd5-4b32-bd5f-3565e47e74cd",
   "metadata": {},
   "outputs": [
    {
     "data": {
      "text/plain": [
       "['have you ever received text message from company or person you recognized but it didn seem quite right',\n",
       " 'spam text message also known a phishing or smishing sm phishing trick consumer into providing personal data to criminal who pose a familiar business organization or family member reviewing spam text message example can help avoid falling victim to these dangerous scheme',\n",
       " 'criminal use phishing text message to attain usernames and password social security number credit card number and pin to commit fraud or identity theft other attack focus on duping people into downloading virus or malware by clicking seemingly innocent link',\n",
       " 'if you don think you ever fall for phishing text scam think again 11 94 billion spam text were sent in may 2022 alone that almost 43 spam text for every person in the s in addition while the federal trade commission ftc noted drop in fraudulent call it also saw 145 increase in report of scam texting',\n",
       " 'today we ll share ten common spam text message example and tip for fighting back against sm phishing scam',\n",
       " 'table of content',\n",
       " 'there seems to be an endless amount of spam text scheme check out these phishing text example so you know what red flag to look out for',\n",
       " 'winning an unexpected prize sound great in theory however being notified of winning contest you didn enter is dead giveaway of phishing text if you re unsure whether an offer is authentic contact the business directly to verify',\n",
       " 'government agency like the irs will not contact you via email phone or text message if any legitimate government agency need to contact you they will usually do so via mail or certified letter',\n",
       " 'notification involving money owed to you are enticing aren they our record show you overpaid for product or service kindly supply your bank routing and account number to receive your refund don fall for it',\n",
       " 'scam hiding under the guise of financial institution like bank of america well fargo and chase have famously allowed scammer to steal ton of personal banking information from customer',\n",
       " 'legitimate company won ask for your personal or financial information over text so if you get random verification text from your bank it probably fake',\n",
       " 'with delivery from amazon and fedex so commonplace now text message regarding package or order would be easy to overlook while shipper send legitimate shipping update text they ll never ask for personal information or money to complete delivery',\n",
       " 'any text that attempt to verify your apple id or another technology account is suspicious if you suspect your account is compromised contact the company directly and change your password immediately',\n",
       " 'you should treat any offer of free bitcoin the same a any other offer of free money with high scrutiny scammer often use bitcoin a currency in blackmail scam that demand payment for withholding personal detail the scammer claim to have about you',\n",
       " 'one of the most disturbing spam text message lead you to believe that family member is in trouble and need immediate financial help the sender try to convince you that wiring money is necessary to prevent financial or medical emergency or that loved one is involved in kidnapping',\n",
       " 'be cautious and contact the family member directly before proceeding if there is genuine emergency it best to reach out to appropriate authority before sending financial aid',\n",
       " 'you can always trust the most seemingly innocent message if you receive text that one of your account ha been hacked or compromised delete the message and then contact the account directly rather than responding',\n",
       " 'if you suddenly receive notification that your statement is ready or if you receive thank you for your payment message proceed with caution',\n",
       " 'this is another common type of scam if it a company you believe you ve done business with but you aren sure about any recent transaction go online find the company website and locate their customer service contact information never use the contact information provided in the suspicious text',\n",
       " 'under the telephone consumer protection act tcpa business may not send message to you without your permission so even if you have long standing relationship with legitimate company they cannot text you if you haven granted express written consent',\n",
       " 'many spam message are easy to spot however hacker who send phishing message have refined their technique over time making them extremely convincing therefore understanding how to identify fake text message requires continuous learning',\n",
       " 'be on the lookout for the following type of spam text message',\n",
       " 'is the sender familiar like amazon or apple the most imitated brand in all phishing scam but the text is poorly written or full of typo it may direct you to spoofed website that look legitimate but isn',\n",
       " 'is the sender telling you something is wrong with your account or payment method and demanding immediate action using urgency is surefire way to prompt people to act without thinking',\n",
       " 'be wary of text starting with generic hello instead of addressing you by name',\n",
       " 'are they offering gift card discount code or prize for responding with your personal information',\n",
       " 'if you think you ve received phishing text what should you do here are some best practice to help you handle spam text appropriately',\n",
       " 'bottom line would you give even your best friend your personal financial information or access to your password if not why would you give them to stranger use your best judgment and exercise caution before responding to request for information',\n",
       " 'did you find this article because you ve already responded to spam text and don know what to do next we re here to help',\n",
       " 'people are increasingly aware of phishing text message scam if you re business owner or marketer your challenge is to ensure your sm marketing campaign look professional',\n",
       " 'textedly can help your business design successful creative sm campaign that inspire trust and confidence rather than get marked a spam textedly provides simple sm solution that are easy to set up so you can start messaging your customer right away',\n",
       " 'sign up for free textedly trial today',\n",
       " 'message and data rate may apply to unsubscribe from any textedly list simply text stop to the originating short code or contact support for help text help to the originating short code textedly is 100 opt in service textedly doe not provide list of phone number']"
      ]
     },
     "execution_count": 17,
     "metadata": {},
     "output_type": "execute_result"
    }
   ],
   "source": [
    "documents = []\n",
    "\n",
    "from nltk.stem import WordNetLemmatizer\n",
    "\n",
    "stemmer = WordNetLemmatizer()\n",
    "\n",
    "for sen in range(0, len(filteredTexts)):\n",
    "    # Remove all the special characters\n",
    "    document = re.sub(r'\\W', ' ', str(filteredTexts[sen]))\n",
    "    \n",
    "    # remove all single characters\n",
    "    document = re.sub(r'\\s+[a-zA-Z]\\s+', ' ', document)\n",
    "    \n",
    "    # Remove single characters from the start\n",
    "    document = re.sub(r'\\^[a-zA-Z]\\s+', ' ', document) \n",
    "    \n",
    "    # Substituting multiple spaces with single space\n",
    "    document = re.sub(r'\\s+', ' ', document, flags=re.I)\n",
    "    \n",
    "    # Removing prefixed 'b'\n",
    "    document = re.sub(r'^b\\s+', '', document)\n",
    "    \n",
    "    # Converting to Lowercase\n",
    "    document = document.lower()\n",
    "    \n",
    "    # Lemmatization\n",
    "    document = document.split()\n",
    "\n",
    "    document = [stemmer.lemmatize(word) for word in document]\n",
    "    document = ' '.join(document)\n",
    "    \n",
    "    if document != '':\n",
    "        documents.append(document)\n",
    "    \n",
    "documents"
   ]
  },
  {
   "cell_type": "code",
   "execution_count": 18,
   "id": "75991fcf-9e54-48ea-bdf1-a889a63d7b8c",
   "metadata": {},
   "outputs": [
    {
     "name": "stdout",
     "output_type": "stream",
     "text": [
      "[[0 1 0 0 0 0 0 1 0 0 0 0 1]\n",
      " [1 0 0 0 1 0 0 2 1 2 0 2 2]\n",
      " [0 0 0 0 0 0 0 1 0 1 0 0 1]\n",
      " [0 0 0 0 0 0 0 0 0 1 2 2 3]\n",
      " [0 0 0 0 0 0 0 1 0 1 1 1 1]\n",
      " [0 0 0 0 0 0 0 0 0 0 0 0 0]\n",
      " [0 0 0 0 0 0 0 0 0 1 0 1 2]\n",
      " [1 0 1 0 0 0 0 0 0 1 0 0 1]\n",
      " [0 0 2 0 0 0 1 1 0 0 0 0 1]\n",
      " [0 0 0 0 0 0 0 0 0 0 0 0 0]\n",
      " [0 0 0 1 0 1 0 0 1 0 1 0 0]\n",
      " [0 1 0 1 0 1 1 0 1 0 0 0 2]\n",
      " [0 0 0 0 0 1 1 1 1 0 0 0 2]\n",
      " [0 1 1 0 0 0 0 0 0 0 0 0 1]\n",
      " [0 0 0 0 0 0 0 0 1 0 1 0 0]\n",
      " [0 0 0 2 1 0 0 1 0 0 0 1 1]\n",
      " [0 0 1 1 0 0 0 0 0 0 0 0 0]\n",
      " [0 0 1 0 0 0 0 2 0 0 0 0 1]\n",
      " [0 0 0 0 0 0 0 1 0 0 0 0 0]\n",
      " [1 2 2 0 0 2 0 0 0 0 1 0 1]\n",
      " [1 1 0 0 0 0 1 1 0 0 0 0 1]\n",
      " [0 0 0 0 0 0 0 3 0 1 0 1 1]\n",
      " [0 0 0 0 0 0 0 1 0 0 0 1 1]\n",
      " [0 0 0 0 0 0 1 0 0 1 1 0 1]\n",
      " [0 0 0 0 0 0 0 0 0 0 0 0 0]\n",
      " [0 0 0 0 0 0 0 0 0 0 0 0 1]\n",
      " [0 0 0 0 0 1 0 0 1 0 0 0 0]\n",
      " [0 0 0 0 1 0 0 0 0 1 0 1 2]\n",
      " [0 0 0 1 0 2 0 0 1 0 0 0 0]\n",
      " [0 0 0 0 1 0 0 0 0 0 0 1 1]\n",
      " [1 0 0 0 0 0 0 1 0 1 1 0 1]\n",
      " [1 0 0 0 1 0 0 0 0 0 0 1 0]\n",
      " [0 0 0 0 0 0 0 0 0 0 0 0 0]\n",
      " [0 0 1 0 2 0 0 1 0 0 0 0 2]]\n"
     ]
    }
   ],
   "source": [
    "X = vectorizer.fit_transform(documents).toarray()\n",
    "print(X)"
   ]
  },
  {
   "cell_type": "code",
   "execution_count": 19,
   "id": "61fd8b25-6da5-465c-aea8-2bc7428480da",
   "metadata": {},
   "outputs": [
    {
     "name": "stdout",
     "output_type": "stream",
     "text": [
      "[0 0 0 0 0 0 0 1 0 0 0 0 1 0 0 1 0 0 0 0]\n"
     ]
    }
   ],
   "source": [
    "y_pred = model.predict(X)\n",
    "print(y_pred[:20])"
   ]
  },
  {
   "cell_type": "code",
   "execution_count": 20,
   "id": "afef8fa3-5f2a-4be7-99f7-1d3e46e363cd",
   "metadata": {},
   "outputs": [
    {
     "data": {
      "text/plain": [
       "['winning an unexpected prize sound great in theory however being notified of winning contest you didn enter is dead giveaway of phishing text if you re unsure whether an offer is authentic contact the business directly to verify',\n",
       " 'with delivery from amazon and fedex so commonplace now text message regarding package or order would be easy to overlook while shipper send legitimate shipping update text they ll never ask for personal information or money to complete delivery',\n",
       " 'one of the most disturbing spam text message lead you to believe that family member is in trouble and need immediate financial help the sender try to convince you that wiring money is necessary to prevent financial or medical emergency or that loved one is involved in kidnapping',\n",
       " 'people are increasingly aware of phishing text message scam if you re business owner or marketer your challenge is to ensure your sm marketing campaign look professional']"
      ]
     },
     "execution_count": 20,
     "metadata": {},
     "output_type": "execute_result"
    }
   ],
   "source": [
    "spams = []\n",
    "\n",
    "for sen in range(0, len(documents)):\n",
    "    if y_pred[sen] == 1:\n",
    "        spams.append(documents[sen])\n",
    "        \n",
    "spams"
   ]
  }
 ],
 "metadata": {
  "kernelspec": {
   "display_name": "Python 3 (ipykernel)",
   "language": "python",
   "name": "python3"
  },
  "language_info": {
   "codemirror_mode": {
    "name": "ipython",
    "version": 3
   },
   "file_extension": ".py",
   "mimetype": "text/x-python",
   "name": "python",
   "nbconvert_exporter": "python",
   "pygments_lexer": "ipython3",
   "version": "3.10.2"
  }
 },
 "nbformat": 4,
 "nbformat_minor": 5
}
